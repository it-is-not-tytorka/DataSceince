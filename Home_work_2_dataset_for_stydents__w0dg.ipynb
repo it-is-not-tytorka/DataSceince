{
  "cells": [
    {
      "cell_type": "markdown",
      "id": "18f3c9e4",
      "metadata": {
        "id": "18f3c9e4"
      },
      "source": [
        "# Домашнее задание 2"
      ]
    },
    {
      "cell_type": "markdown",
      "id": "5730516c",
      "metadata": {
        "id": "5730516c"
      },
      "source": [
        "Добро пожаловать на второе домашнее задание, в нем Вам предстоит очистить набор данных для задачи **бинарной классификации** от пропусков и некорректной информации.\n",
        "\n",
        "В этом наборе данных находиться информация о людях: возраст человека, возраст его родителей и **ходит ли он детский сад ил нет.**"
      ]
    },
    {
      "cell_type": "code",
      "execution_count": null,
      "id": "101cfff1",
      "metadata": {
        "id": "101cfff1"
      },
      "outputs": [],
      "source": [
        "import pandas as pd\n",
        "df = pd.read_csv(\"kindergarten_dataset.csv\", index_col = 0)"
      ]
    },
    {
      "cell_type": "code",
      "execution_count": null,
      "id": "7d83bd9e",
      "metadata": {
        "id": "7d83bd9e"
      },
      "outputs": [],
      "source": [
        "df"
      ]
    },
    {
      "cell_type": "markdown",
      "id": "d63cb5fb",
      "metadata": {
        "id": "d63cb5fb"
      },
      "source": [
        "К сожалению, в процессе сбора данной информации произошли некоторые ошибки, в результате чего в таблице появились **пропуски** и **некорректные данные.**\n",
        "\n",
        "В этом домашнем задании Вам предлагается произвести несколько этапов очистки представленного набора данных, после чего у Вас получится полноценный **датасет для задачи бинарной классификации.**\n",
        "\n",
        "Пользуйтесь методами <code>describe()</code> и <code>info()</code> для поиска некорректной информации и пропусков. "
      ]
    },
    {
      "cell_type": "code",
      "execution_count": null,
      "id": "be927827",
      "metadata": {
        "id": "be927827"
      },
      "outputs": [],
      "source": [
        "df.describe()"
      ]
    },
    {
      "cell_type": "code",
      "execution_count": null,
      "id": "6e675924",
      "metadata": {
        "id": "6e675924"
      },
      "outputs": [],
      "source": [
        "df.info()"
      ]
    },
    {
      "cell_type": "markdown",
      "id": "ed168cc2",
      "metadata": {
        "id": "ed168cc2"
      },
      "source": [
        "### Задание 1\n",
        "\n",
        "Найдите и удалите все строки в столбце **Возраст**, в которых есть пропуски (null).\n",
        "\n",
        "**Подсказка:** используйте для выполнения задания команду <code>isna()</code>. Пример использования данной команды можно найти в практической части лекции."
      ]
    },
    {
      "cell_type": "code",
      "execution_count": null,
      "id": "fd34123a",
      "metadata": {
        "id": "fd34123a"
      },
      "outputs": [],
      "source": [
        "df = df.drop(df[...].index) \n",
        "# Вместо троиточия вставьте условие, согласно которому нужно удалить \"неправильные\" данные."
      ]
    },
    {
      "cell_type": "markdown",
      "id": "ed2fbdbd",
      "metadata": {
        "id": "ed2fbdbd"
      },
      "source": [
        "**Проверьте себя!**\n",
        "\n",
        "Убедитесь с помощью команды <code>assert()</code>, что вы нашли и удалили все лишние строки."
      ]
    },
    {
      "cell_type": "code",
      "execution_count": null,
      "id": "c9bbecb8",
      "metadata": {
        "id": "c9bbecb8"
      },
      "outputs": [],
      "source": [
        "assert len(df) == 983, \"Удалны на все сторчки с null\""
      ]
    },
    {
      "cell_type": "markdown",
      "id": "86888c0e",
      "metadata": {
        "id": "86888c0e"
      },
      "source": [
        "### Задание 2\n",
        "\n",
        "Найдите и удалите все строки, в которых **Возраст_мамы** или **Возраст_папы** равен 0."
      ]
    },
    {
      "cell_type": "code",
      "execution_count": null,
      "id": "45c80134",
      "metadata": {
        "id": "45c80134"
      },
      "outputs": [],
      "source": [
        "df = df.drop(df[...].index)\n",
        "\n",
        "# Вместо троиточия вставьте условие, согласно которому нужно удалить \"неправильные\" данные."
      ]
    },
    {
      "cell_type": "markdown",
      "id": "80bf3974",
      "metadata": {
        "id": "80bf3974"
      },
      "source": [
        "**Проверьте себя!**\n",
        "\n",
        "Убедитесь с помощью команды <code>assert()</code>, что вы нашли и удалили все лишние строки."
      ]
    },
    {
      "cell_type": "code",
      "execution_count": null,
      "id": "db839f1c",
      "metadata": {
        "id": "db839f1c"
      },
      "outputs": [],
      "source": [
        "assert len(df) == 963, \"Удалены на все сторчки, в которых возраст родителей равен 0\""
      ]
    },
    {
      "cell_type": "markdown",
      "id": "f3c24861",
      "metadata": {
        "id": "f3c24861"
      },
      "source": [
        "### Задание 3\n",
        "\n",
        "Найдите и удалите все строки, в которых **Возраст** человека больше или равен **Возраст_папы** или **Возраст_мамы**."
      ]
    },
    {
      "cell_type": "code",
      "execution_count": null,
      "id": "d4d57811",
      "metadata": {
        "id": "d4d57811"
      },
      "outputs": [],
      "source": [
        "df = df.drop(df[...].index)"
      ]
    },
    {
      "cell_type": "markdown",
      "id": "6ac5c1b3",
      "metadata": {
        "id": "6ac5c1b3"
      },
      "source": [
        "**Проверьте себя!**\n",
        "\n",
        "Убедитесь с помощью команды <code>assert()</code>, что вы нашли и удалили все лишние строки."
      ]
    },
    {
      "cell_type": "code",
      "execution_count": null,
      "id": "199d22b8",
      "metadata": {
        "id": "199d22b8"
      },
      "outputs": [],
      "source": [
        "assert len(df) == 953, \"Удалены на все сторчки, в которых возраст родителей меньше возраста человека.\""
      ]
    },
    {
      "cell_type": "markdown",
      "id": "2377f111",
      "metadata": {
        "id": "2377f111"
      },
      "source": [
        "### Задание 4\n",
        "\n",
        "Найдите и удалите все строки, в которых **Возраст_мамы** или **Возраст_папы** больше 200 лет."
      ]
    },
    {
      "cell_type": "code",
      "execution_count": null,
      "id": "3d2e3dac",
      "metadata": {
        "id": "3d2e3dac"
      },
      "outputs": [],
      "source": [
        "df = df.drop(df[...].index)"
      ]
    },
    {
      "cell_type": "markdown",
      "id": "a82523e7",
      "metadata": {
        "id": "a82523e7"
      },
      "source": [
        "**Проверьте себя!**\n",
        "\n",
        "Убедитесь с помощью команды <code>assert()</code>, что вы нашли и удалили все лишние строки."
      ]
    },
    {
      "cell_type": "code",
      "execution_count": null,
      "id": "b4211aae",
      "metadata": {
        "id": "b4211aae"
      },
      "outputs": [],
      "source": [
        "assert len(df) == 940, \"Удалены на все сторчки, в которых возраст родителей больше 200 лет.\""
      ]
    },
    {
      "cell_type": "markdown",
      "id": "f266ba94",
      "metadata": {
        "id": "f266ba94"
      },
      "source": [
        "### Задание 5\n",
        "\n",
        "Произведите замену переменных для столбца **Ходит$_$в$_$детский_сад**. \n",
        "\n",
        "Ответ **да** замените на **1**, а ответ **нет** замените на **0**.\n",
        "\n",
        "**Подсказка:** используйте для выполнения задания команду <code>map()</code>. Пример использования данной команды можно найти в практической части 1-ой лекции."
      ]
    },
    {
      "cell_type": "code",
      "execution_count": null,
      "id": "d6b91a02",
      "metadata": {
        "id": "d6b91a02"
      },
      "outputs": [],
      "source": [
        "df[\"Ходит_в_детский_сад\"] = df[\"Ходит_в_детский_сад\"].map(...)"
      ]
    },
    {
      "cell_type": "markdown",
      "id": "aaf5ec1b",
      "metadata": {
        "id": "aaf5ec1b"
      },
      "source": [
        "И так, поздравляем, Вы выполнили второе домашнее задание!\n",
        "\n",
        "Теперь осталось чуть-чуть...\n",
        "\n",
        "На платформу Школково Вам нужно будет загрузить файл с итоговым очищенным датасетом для задачи классификации.\n",
        "\n",
        "Чтобы сделать это, выполните ячейку ниже. Тем самым Вы сохраните таблицу в файл <code>kindergarten_dataset_clean.csv</code>. Затем загрузите этот файл на платформу Школково."
      ]
    },
    {
      "cell_type": "code",
      "execution_count": null,
      "id": "832f778a",
      "metadata": {
        "id": "832f778a"
      },
      "outputs": [],
      "source": [
        "df.to_csv(\"kindergarten_dataset_clean.csv\")"
      ]
    }
  ],
  "metadata": {
    "kernelspec": {
      "display_name": "Python 3",
      "language": "python",
      "name": "python3"
    },
    "language_info": {
      "codemirror_mode": {
        "name": "ipython",
        "version": 3
      },
      "file_extension": ".py",
      "mimetype": "text/x-python",
      "name": "python",
      "nbconvert_exporter": "python",
      "pygments_lexer": "ipython3",
      "version": "3.8.8"
    },
    "colab": {
      "provenance": []
    }
  },
  "nbformat": 4,
  "nbformat_minor": 5
}

print('hello world')
